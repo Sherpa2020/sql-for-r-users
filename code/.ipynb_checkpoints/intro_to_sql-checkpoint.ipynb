{
 "cells": [
  {
   "cell_type": "markdown",
   "metadata": {},
   "source": [
    "\n",
    "# Introduction to SQL\n",
    "\n",
    "The workshop is designed to provide a gentle introduction to [SQL](https://www.w3schools.com/sql/) for intermediate R users who are familiar with [the tidyverse framework](https://www.tidyverse.org/). SQL is a great tool for researchers to conduct data analysis using medium or big data. This skill helps them to on a large data set (e.g., voter files, social media data, and all kinds of administrative data) that does not fit easily in the memory of their personal computer or laptop. It also helps them to work with an organization which manages their data using a database (e.g., tech firms, media companies, hospitals, government agencies, etc.,).   \n",
    "\n",
    "## What is SQL? (from [Oracle](https://docs.oracle.com/cd/B12037_01/server.101/b10759/intro001.htm))\n",
    "\n",
    "- Called SEQUEL\n",
    "- First developed by IBM Corporation and inspired by F. F. Codd's paper titled [\"A Relational Model of Data for Large Shared Data Banks\"](https://www.seas.upenn.edu/~zives/03f/cis550/codd.pdf)\n",
    "- It was developed in the 1970s but still remains the standard language for a relational database management system (RDMBS).\n",
    "\n",
    "## Setup \n",
    "\n",
    "- `pacman::p_load()` reduces steps for installing and loading several packages simultaneously. "
   ]
  },
  {
   "cell_type": "code",
   "execution_count": 1,
   "metadata": {},
   "outputs": [
    {
     "name": "stderr",
     "output_type": "stream",
     "text": [
      "/home/jae/anaconda3/lib/python3.6/site-packages/rpy2/robjects/pandas2ri.py:14: FutureWarning: pandas.core.index is deprecated and will be removed in a future version.  The public classes are available in the top-level namespace.\n",
      "  from pandas.core.index import Index as PandasIndex\n"
     ]
    }
   ],
   "source": [
    "\n",
    "################# To use R in Jupyter Notebook ###############\n",
    "import rpy2.ipython\n",
    "%load_ext rpy2.ipython\n",
    "\n",
    "################# To ignore warnings ##################\n",
    "import warnings\n",
    "warnings.filterwarnings('ignore')\n",
    "\n",
    "################## To have multiple outputs ###################\n",
    "from IPython.core.interactiveshell import InteractiveShell\n",
    "InteractiveShell.ast_node_interactivity = \"all\" \n",
    "\n",
    "from IPython.display import display"
   ]
  },
  {
   "cell_type": "markdown",
   "metadata": {},
   "source": [
    "## Load R packages "
   ]
  },
  {
   "cell_type": "code",
   "execution_count": 3,
   "metadata": {},
   "outputs": [],
   "source": [
    "%%R\n",
    "\n",
    "if (!require(\"pacman\")) install.packages(\"pacman\")\n",
    "pacman::p_load(\n",
    " tidyverse, # tidyverse packages \n",
    " conflicted, # an alternative conflict resolution strategy \n",
    " ggthemes, # for more themes \n",
    " patchwork, # for arranging ggplots\n",
    " dbplyr, # to use database with dplyr \n",
    " DBI, # for using SQL queries\n",
    " RSQLite, # for SQLite\n",
    " odbc, # backend engine; open data connectivity driver\n",
    " sqldf # for running SQL in R\n",
    ")\n",
    "\n",
    "conflict_prefer(\"filter\", \"dplyr\")\n"
   ]
  },
  {
   "cell_type": "markdown",
   "metadata": {},
   "source": [
    "## Data sets \n",
    "\n",
    "We use [the flight on-time performance data](https://www.transtats.bts.gov/DL_SelectFields.asp?Table_ID=236) from the Bureau of Transporation Statistics of the U.S. government. The data is more than 20 gigabytes and it goes all the back to 1987. Therefore, we only use a small subset of the orignal data (flight data departing NYC in 2013) provided by RStudio.\n",
    "\n",
    "### Connect to the database (from the `dbplyr` package vignette)\n",
    "\n",
    "The `DBI` pacakge provides an interfact that allows `dplyr` to work with databases. DBI is automally installed whne you installed `dbplyr`. However, you need to install a specific backend for the database (e.g., `RMariaDB`, `RPostgres`, `RSQLite`, `obdc`, `bigrquery`)."
   ]
  },
  {
   "cell_type": "code",
   "execution_count": 3,
   "metadata": {},
   "outputs": [
    {
     "name": "stdout",
     "output_type": "stream",
     "text": [
      "\n",
      "Error: Table `flights` exists in database, and both overwrite and append are FALSE\n"
     ]
    }
   ],
   "source": [
    "%%R\n",
    "\n",
    "# Acces to the DB \n",
    "\n",
    "con <- DBI::dbConnect(RSQLite:SQLite(), dbname = \":memory\")\n",
    "\n",
    "#con <- DBI::dbConnect(RMariaDB::MariaDB(), \n",
    " # host = \"database.rstudio.com\",\n",
    " # user = \"hadley\",\n",
    " # password = rstudioapi::askForPassword(\"Database password\")\n",
    "#)\n",
    "\n",
    "# DB to the data \n",
    "\n",
    "copy_to(con, nycflights13::flights, \"flights\", \n",
    "        temporary = FALSE, \n",
    "        indexes = list(\n",
    "          c(\"year\", \"month\", \"day\"),\n",
    "          \"carrier\",\n",
    "          \"tailnum\",\n",
    "          \"dest\"\n",
    "        ))"
   ]
  },
  {
   "cell_type": "markdown",
   "metadata": {},
   "source": [
    "## Tidy-way\n",
    "\n",
    "https://rviews.rstudio.com/post/2017-05-11-databases-using-r_files/better.png\n",
    "\n",
    "\n",
    "One of the recent developments in the tidyverse is now we are able to direclty communicate with databases using the `dplyr` package. \n",
    "\n",
    "These examples are from the vignette of the `dbplyr` package.\n"
   ]
  },
  {
   "cell_type": "code",
   "execution_count": 6,
   "metadata": {},
   "outputs": [
    {
     "name": "stdout",
     "output_type": "stream",
     "text": [
      "\n",
      "Error in tbl(mammals, \"surveys\") : object 'mammals' not found\n"
     ]
    }
   ],
   "source": [
    "%%R\n",
    "\n",
    "flights_db <- tbl(con, \"flights\")\n",
    "\n",
    "flights_db"
   ]
  },
  {
   "cell_type": "markdown",
   "metadata": {},
   "source": [
    "### `select` = `SELECT`"
   ]
  },
  {
   "cell_type": "code",
   "execution_count": null,
   "metadata": {},
   "outputs": [],
   "source": [
    "%%R\n",
    "\n",
    "flights_db %>% \n",
    "  select(contains(\"delay\")) %>%\n",
    "  show_query()"
   ]
  },
  {
   "cell_type": "markdown",
   "metadata": {},
   "source": [
    "### `mutate` = `SELECT` `AS`"
   ]
  },
  {
   "cell_type": "code",
   "execution_count": null,
   "metadata": {},
   "outputs": [],
   "source": [
    "%%R\n",
    "\n",
    "flights_db %>%\n",
    "  select(distance, air_time) %>%  \n",
    "  mutate(speed = distance / (air_time / 60)) %>%\n",
    "  show_query()"
   ]
  },
  {
   "cell_type": "markdown",
   "metadata": {},
   "source": [
    "### `mutate` = `SELECT` `AS`"
   ]
  },
  {
   "cell_type": "code",
   "execution_count": null,
   "metadata": {},
   "outputs": [],
   "source": [
    "%%R\n",
    "\n",
    "flights_db %>%\n",
    "  select(distance, air_time) %>%  \n",
    "  mutate(speed = distance / (air_time / 60)) %>%\n",
    "  show_query()"
   ]
  },
  {
   "cell_type": "markdown",
   "metadata": {},
   "source": [
    "### `filter` = `WHERE` "
   ]
  },
  {
   "cell_type": "code",
   "execution_count": null,
   "metadata": {},
   "outputs": [],
   "source": [
    "%%R\n",
    "\n",
    "flights_db %>% \n",
    "  filter(month == 1, day == 1) %>%\n",
    "  show_query()"
   ]
  },
  {
   "cell_type": "markdown",
   "metadata": {},
   "source": [
    "### `arrange` = `ORDER BY`"
   ]
  },
  {
   "cell_type": "code",
   "execution_count": null,
   "metadata": {},
   "outputs": [],
   "source": [
    "%%R\n",
    "\n",
    "flights_db %>% \n",
    "  arrange(carrier, desc(arr_delay)) %>%\n",
    "  show_query()"
   ]
  },
  {
   "cell_type": "markdown",
   "metadata": {},
   "source": [
    "### `summarise` = `SELECT` `AS` and `group by` = `GROUP BY`"
   ]
  },
  {
   "cell_type": "code",
   "execution_count": null,
   "metadata": {},
   "outputs": [],
   "source": [
    "%%R\n",
    "\n",
    "flights_db %>%\n",
    "  group_by(month, day) %>%\n",
    "  summarise(delay = mean(dep_delay)) %>%\n",
    "  show_query()"
   ]
  },
  {
   "cell_type": "markdown",
   "metadata": {},
   "source": [
    "## SQL-way\n",
    "\n",
    "### `select` = `SELECT`"
   ]
  },
  {
   "cell_type": "code",
   "execution_count": null,
   "metadata": {},
   "outputs": [],
   "source": [
    "%%R\n",
    "\n",
    "# Since we have already read the data into memory (https://stackoverflow.com/questions/38416714/failed-to-connect-the-database-when-using-sqldf-in-r)\n",
    "\n",
    "# detach(\"package:RMySQL\", unload=TRUE)\n",
    "\n",
    "sqldf(\"SELECT dep_delay, arr_delay FROM flights_db\")"
   ]
  },
  {
   "cell_type": "markdown",
   "metadata": {},
   "source": [
    "## References \n",
    "\n",
    "The workshop is based on the following materials. I highly recommend to check them out, if you were interested in improving your SQL skills. \n",
    "\n",
    "- R Studio, [Database Queries with R](https://db.rstudio.com/getting-started/database-queries/)\n",
    "- Data Carpentry contributors, [SQL database and R](https://datacarpentry.org/R-ecology-lesson/05-r-and-databases.html), Data Carpentry, September 10, 2019.\n",
    "- [Introduction to dbplyr](https://cran.r-project.org/web/packages/dbplyr/vignettes/dbplyr.html)\n",
    "- Benjamin S. Baumer, Daniel T. Kaplan, and Nicholas J. Horton, [Moden Data Science with R, 2nd ed.](https://beanumber.github.io/mdsr2e/), CRC Press, 2020-01-03.\n",
    "- Josh Errickson, [SQL in R](http://dept.stat.lsa.umich.edu/~jerrick/courses/stat701/notes/sql.html), STAT 701, University of Michigan\n",
    "- [Deborah Nolan](https://www.stat.berkeley.edu/~nolan/), [STAT 133 class notes](https://www.stat.berkeley.edu/~nolan/stat133/Fall05/lectures/), University of California, Berkeley, Fall 2005 \n",
    "- [Kane, Michael J](https://medicine.yale.edu/profile/michael_kane/), \"Strategies for Exploring a 12 Gigabyte Data Set: Airline Flight Delays,\" Invited book chapter in Data Science in R: A Case Studies Approach to Computational Reasoning and Problem Solving, 2015.\n",
    "- Kane, Michael J., John Emerson, and Stephen Weston. [\"Scalable strategies for computing with massive data.\"](http://www.stat.yale.edu/~jay/EmersonMaterials/ScalableStrategies.pdf) Journal of Statistical Software 55.14 (2013): 1-19.\n",
    "- Eduardo Arino de la Rubia, [\"Multicore Data Science with R and Python\"](https://blog.dominodatalab.com/multicore-data-science-r-python/), Domino Data Lab, May 22, 2017.\n"
   ]
  },
  {
   "cell_type": "code",
   "execution_count": null,
   "metadata": {},
   "outputs": [],
   "source": []
  }
 ],
 "metadata": {
  "kernelspec": {
   "display_name": "Python 3",
   "language": "python",
   "name": "python3"
  },
  "language_info": {
   "codemirror_mode": {
    "name": "ipython",
    "version": 3
   },
   "file_extension": ".py",
   "mimetype": "text/x-python",
   "name": "python",
   "nbconvert_exporter": "python",
   "pygments_lexer": "ipython3",
   "version": "3.6.8"
  },
  "toc": {
   "base_numbering": 1,
   "nav_menu": {},
   "number_sections": true,
   "sideBar": true,
   "skip_h1_title": false,
   "title_cell": "Table of Contents",
   "title_sidebar": "Contents",
   "toc_cell": false,
   "toc_position": {},
   "toc_section_display": true,
   "toc_window_display": false
  }
 },
 "nbformat": 4,
 "nbformat_minor": 2
}
