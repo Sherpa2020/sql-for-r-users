{
 "cells": [
  {
   "cell_type": "markdown",
   "metadata": {},
   "source": [
    "# Using PostgreSQL\n",
    "\n",
    "Jae Yeon Kim\n",
    "\n",
    "The first sequence of the workshop covered accessing a databae and doing basic data exploration using `dbplyr` and `dplyr` in R. For a more serious work on database, it is necessary to go deeper into the understanding of how database and SQL work. At the fundamental level, a database does two things: storing and retrieving data. As we have learned how to retrieve data, we also need to learn how to store data.\n",
    "\n",
    "In this workshop, we learn basic skills to use [PostgreSQL](https://www.postgresql.org/), one of the advanced open source relational database management tools, for database management. This workshop heavily draws on [PostgreSQL: Up and Running, A Practical Guide to the Advanced Open Source Database](http://shop.oreilly.com/product/0636920052715.do) by Regina Obe and Leo Hsu (O'Reilly Media 2017) and [PostgreSQL Tutorial](https://www.postgresqltutorial.com/what-is-postgresql/) website.\n",
    "\n",
    "![](http://db.cs.berkeley.edu/www/database.gif)\n",
    "\n",
    "**Why PostgreSQL?**\n",
    "\n",
    "1. Open-sourced\n",
    "2. Popular (large community)\n",
    "3. Fast\n",
    "4. Compatible with many languages (e.g., C, SQL, R, Python)\n",
    "5. Smart. PostgreSQL helps to use databases as a platform to run data-intensive applications.\n",
    "6. Developed by Berkeley computer science researchers ([POSTGRES 4.2](https://dsf.berkeley.edu/postgres.html)) :heart:\n",
    "\n",
    "**Why not?**\n",
    "\n",
    "If you don't need the advanced features of the PostgreSQL for what you want to do. A single user of a database may find using [SQLite](https://www.sqlite.org/index.html) would be sufficient for their use.\n"
   ]
  },
  {
   "cell_type": "markdown",
   "metadata": {},
   "source": [
    "## Installation\n",
    "\n",
    "In Ubuntu (a Linux distribution), installing postgresql is pretty easy and straightforward.\n",
    "\n",
    "[`sudo`](https://help.ubuntu.com/kubuntu/desktopguide/C/root-and-sudo.html) = `su` (switch user) + `do` (do action) (giving administrative access to your system)\n"
   ]
  },
  {
   "cell_type": "code",
   "execution_count": null,
   "metadata": {},
   "outputs": [],
   "source": [
    "\n",
    "# Install\n",
    "! echo {password}| sudo -S apt update\n",
    "! sudo apt install postgresql postgresql-contrib\n"
   ]
  },
  {
   "cell_type": "markdown",
   "metadata": {},
   "source": [
    "If you use different operation systems (e.g., Windows and Mac), then take a look at this [official platform-specific guideline for installation](https://www.postgresql.org/docs/9.3/installation.html) documented by postgresql.org.\n",
    "\n",
    "## Basic setup and operations\n",
    "\n",
    "**Administration tools**\n",
    "\n",
    "- `psql` (a command line interface)\n",
    "- `pgAdmin` (a popular GUI tool; a good entry point for PostgreSQL). Our focus today. ([Installation guide](https://www.pgadmin.org/download/))\n",
    "- `phpPgAdmin`\n",
    "- `Adminer`\n"
   ]
  },
  {
   "cell_type": "code",
   "execution_count": null,
   "metadata": {},
   "outputs": [],
   "source": [
    "### Setup\n",
    "\n",
    "# !pip install psycopg2\n",
    "import psycopg2\n",
    "\n",
    "conn = psycopg2.connect(\"dbname='postgres'\")\n",
    "cur = conn.cursor()\n",
    "cur.execute(\"SELECT datname from pg_database\")\n",
    "\n",
    "cur.fetchall()"
   ]
  },
  {
   "cell_type": "code",
   "execution_count": null,
   "metadata": {},
   "outputs": [],
   "source": [
    "%load_ext sql\n",
    "\n",
    "%sql postgresql:///postgres"
   ]
  },
  {
   "cell_type": "markdown",
   "metadata": {},
   "source": [
    "### Add a database\n",
    "\n",
    "Let's add a new database using `psql`."
   ]
  },
  {
   "cell_type": "code",
   "execution_count": null,
   "metadata": {},
   "outputs": [],
   "source": [
    "\n",
    "# In terminal\n",
    "! sudo -u postgres psql\n",
    "# same as\n",
    "# sudo su - postgres\n",
    "# psql\n"
   ]
  },
  {
   "cell_type": "markdown",
   "metadata": {},
   "source": [
    "Now, you're in PostgreSQL. Don't forget to type `;` at the end of your command. The sign singals that the code ends and it should be running. Note that when the code works, PostgreSQL returns something simple that indicate the task performed (e.g., `CREATE DATABASE`)."
   ]
  },
  {
   "cell_type": "code",
   "execution_count": null,
   "metadata": {},
   "outputs": [],
   "source": [
    "\n",
    "## Create a databse\n",
    "%sql create database oskidb;\n",
    "\n",
    "## Check whether that new databse exists; Enlist the available databases\n",
    "%sql \\l\n",
    "\n",
    "## If you want to switch to another datbase then type \\c database_name\n"
   ]
  },
  {
   "cell_type": "markdown",
   "metadata": {},
   "source": [
    "### Add a new user\n",
    "\n",
    "- Create a user"
   ]
  },
  {
   "cell_type": "code",
   "execution_count": null,
   "metadata": {},
   "outputs": [],
   "source": [
    "\n",
    "## Create a user and associated password\n",
    "%sql create user oski with encrypted password 'oskipw';\n"
   ]
  },
  {
   "cell_type": "markdown",
   "metadata": {},
   "source": [
    "- Define the privileges (or permissions) of the new user: `GRANT`"
   ]
  },
  {
   "cell_type": "code",
   "execution_count": null,
   "metadata": {},
   "outputs": [],
   "source": [
    "\n",
    "## Grant privileges\n",
    "%sql grant all privileges on database oskidb to oski;\n"
   ]
  },
  {
   "cell_type": "markdown",
   "metadata": {},
   "source": [
    "We don't dive into the detail here. Let's just aware that PostgreSQL allows admins to have granular control over the acess (even down to the column and row level).\n",
    "\n",
    "Let's check whether there's an existing table by typing `\\d`. There should be none if you have never used PostgreSQL.\n",
    "\n",
    "Reference: https://www.digitalocean.com/community/tutorials/how-to-create-remove-manage-tables-in-postgresql-on-a-cloud-server"
   ]
  },
  {
   "cell_type": "markdown",
   "metadata": {},
   "source": [
    "### Add a new table\n",
    "\n",
    "We can't ignore tables as they are building blocks of a relational database. Check available tables by typing `dt`.\n",
    "\n",
    "Here's an example of how you create a table. PostgreSQL supports the fundamental data types (i.e., numerics, strings, dates, times, and booleans) plus more (e.g., [JSON](https://www.json.org/json-en.html), [XML](https://en.wikipedia.org/wiki/XML))."
   ]
  },
  {
   "cell_type": "markdown",
   "metadata": {},
   "source": [
    "**Data types**\n",
    "\n",
    "Note that this list is not exhaustive.\n",
    "\n",
    "- Numerics (e.g., integers, decimals, floating-point numbers)\n",
    "\t- SERIAL: auto-incrementing integers (useful to create keys)\n",
    "- Textuals\n",
    "\t- CHAR: character (values stored in fixed length, e.g., ZIP CODE)\n",
    "\t- VARCHAR: character varying. (values stored in varying length)\n",
    "\t- TEXT: generic textual data type\n",
    "- Temporals (e.g., date, time, timestamp, timestamptz (time stamp + time zone). etc.)"
   ]
  },
  {
   "cell_type": "markdown",
   "metadata": {},
   "source": [
    "**Basic syntax**\n",
    "\n",
    "- Create a table"
   ]
  },
  {
   "cell_type": "code",
   "execution_count": null,
   "metadata": {},
   "outputs": [],
   "source": [
    "\n",
    "%sql CREATE TABLE table_name ( # Name of the table\n",
    "\tfield_name data_type constraint # Name of the column + The variable type of the column + optional constraint\n",
    "\t);\n"
   ]
  },
  {
   "cell_type": "code",
   "execution_count": null,
   "metadata": {},
   "outputs": [],
   "source": [
    "\n",
    "%sql CREATE TABLE sql_workshop(\n",
    "\tstudent_id serial PRIMARY KEY,\n",
    "\tstudent_name VARCHAR (50) UNIQUE NOT NULL,\n",
    "\taffiliations VARCHAR (50),\n",
    "\tcomments TEXT # A string; length is not determined\n",
    "\tlog_ts TIMESTAMP\n",
    ");\n"
   ]
  },
  {
   "cell_type": "markdown",
   "metadata": {},
   "source": [
    "- Alter a table: `ALTER TABLE [TABLE NAME] [ACTION]`"
   ]
  },
  {
   "cell_type": "code",
   "execution_count": null,
   "metadata": {},
   "outputs": [],
   "source": [
    "%sql ALTER TABLE sql_workshop ADD COLUMN\n",
    "program_year varchar(25);"
   ]
  },
  {
   "cell_type": "markdown",
   "metadata": {},
   "source": [
    "- Insert a row: `INSERT INTO [COLUMN NAME] VALUES (a list of values)`"
   ]
  },
  {
   "cell_type": "code",
   "execution_count": null,
   "metadata": {},
   "outputs": [],
   "source": [
    "%sql INSERT INTO student_name VALUES (\"jae\", \"aniket\", \"renata\", \"aaron\", \"evan\", \"claudia\", \"dave\");"
   ]
  },
  {
   "cell_type": "markdown",
   "metadata": {},
   "source": [
    "Hypothetically, you have your data saved in a CSV format in your computer. You can copy and the csv file to the table."
   ]
  },
  {
   "cell_type": "code",
   "execution_count": null,
   "metadata": {},
   "outputs": [],
   "source": [
    "%sql COPY sql_workshop FROM `file name address` DELIMITER `,` CSV HEADER;"
   ]
  },
  {
   "cell_type": "markdown",
   "metadata": {},
   "source": [
    "- Drop a table: `DROP TABLE [TABLE NAME]`"
   ]
  },
  {
   "cell_type": "code",
   "execution_count": null,
   "metadata": {},
   "outputs": [],
   "source": [
    "\n",
    "%sql DROP TABLE sql_workshop;\n"
   ]
  },
  {
   "cell_type": "markdown",
   "metadata": {},
   "source": [
    "If you want to get to know more about the syntax of a command, then add `\\h` before a particular command (`\\h CREATE TABLE`)."
   ]
  },
  {
   "cell_type": "markdown",
   "metadata": {},
   "source": [
    "### Other useful stuff\n",
    "\n",
    "- If you want to return then type `\\q`.\n",
    "\n",
    "- If you want to sign into a database, then\n"
   ]
  },
  {
   "cell_type": "code",
   "execution_count": null,
   "metadata": {},
   "outputs": [],
   "source": [
    "! sudo -u postgres psql\n",
    "\n",
    "! oskidb\n"
   ]
  },
  {
   "cell_type": "markdown",
   "metadata": {},
   "source": [
    "- If you were curious about other commands in `psql` then type `\\?`.\n",
    "\n",
    "- If you want to use an editor (e.g., nano, vim) with `psql` then type `\\e`.\n",
    "\n",
    "- If you want to use bash commands in `psql` prompt then use `\\!` (e.g., `\\! ls`; list files in a directory).\n",
    "\n",
    "## For more complex tasks\n",
    "\n",
    "If you have more complex tasks then use `pgadmin`.\n",
    "\n",
    "The following screent shot helps you to connect to the database you just created. (localhost refers to the current computer used to access a network. For more information, see [this Wiki entry](https://en.wikipedia.org/wiki/Localhost).)\n",
    "\n",
    "<img src=\"https://github.com/jaeyk/sql-for-r-tidyverse-users/blob/master/misc/pgadmin_setup.png\" width=\"600\">\n",
    "\n",
    "\n",
    "## References\n",
    "\n",
    "- [PostgreSQL: Up and Running, A Practical Guide to the Advanced Open Source Database](http://shop.oreilly.com/product/0636920052715.do) by Regina Obe and Leo Hsu (O'Reilly Media 2017)\n",
    "- [PostgreSQL Tutorial](https://www.postgresqltutorial.com/)\n",
    "- [Designing Data-Intensive Applications: The Big Ideas Behind Reliable, Scalable, and Maintainable Systems](https://www.amazon.com/dp/B06XPJML5D/ref=dp-kindle-redirect?_encoding=UTF8&btkr=1) by Martin Kleppmann (O'Reilly Media 2017). A highly recommendable book for learning more about data engineering.\n",
    "- [use-the-index-luke.com](https://use-the-index-luke.com/). This is a great resource to learn how to make your SQL query efficient.\n"
   ]
  },
  {
   "cell_type": "code",
   "execution_count": null,
   "metadata": {},
   "outputs": [],
   "source": []
  }
 ],
 "metadata": {
  "kernelspec": {
   "display_name": "Python 3",
   "language": "python",
   "name": "python3"
  },
  "language_info": {
   "codemirror_mode": {
    "name": "ipython",
    "version": 3
   },
   "file_extension": ".py",
   "mimetype": "text/x-python",
   "name": "python",
   "nbconvert_exporter": "python",
   "pygments_lexer": "ipython3",
   "version": "3.7.4"
  },
  "toc": {
   "base_numbering": 1,
   "nav_menu": {},
   "number_sections": true,
   "sideBar": true,
   "skip_h1_title": false,
   "title_cell": "Table of Contents",
   "title_sidebar": "Contents",
   "toc_cell": false,
   "toc_position": {},
   "toc_section_display": true,
   "toc_window_display": false
  }
 },
 "nbformat": 4,
 "nbformat_minor": 4
}
